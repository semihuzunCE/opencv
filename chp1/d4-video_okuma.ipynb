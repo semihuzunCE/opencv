{
 "cells": [
  {
   "cell_type": "code",
   "execution_count": 1,
   "metadata": {},
   "outputs": [],
   "source": [
    "import cv2 "
   ]
  },
  {
   "cell_type": "code",
   "execution_count": 2,
   "metadata": {},
   "outputs": [],
   "source": [
    "cap=cv2.VideoCapture(0) #webcamden okuma\n",
    "cap=cv2.VideoCapture(\"antalya.mp4\") # dosyadan okuma"
   ]
  },
  {
   "cell_type": "code",
   "execution_count": 3,
   "metadata": {},
   "outputs": [],
   "source": [
    "while True:\n",
    "    ret,frame = cap.read() # fonksiyon iki değer döndürür ilki frameleri doğru alıp almamasına göre ya 1 ya da 0 ikincisi ise framelerin kendisidir.\n",
    "    if ret==False:\n",
    "        break\n",
    "    frame=cv2.flip(frame,1) #frameleri ayna görüntüsünde almaya yarıyor.\n",
    "    cv2.imshow(\"webcam\", frame)\n",
    "    if cv2.waitKey(10) & 0xFF == ord(\"q\"): #her bir framei kaç milisaniye gösterceğini giriyoruz. if komutu ise q ya bastıgımızda pencerenin kapanmasına yarıyor.\n",
    "        break\n",
    "cap.release() # video üzerinde başka işlem yapabilmek için için önce videoyu release etmek gerekir\n",
    "cv2.destroyAllWindows()"
   ]
  }
 ],
 "metadata": {
  "interpreter": {
   "hash": "6890cd249af4e4ffbb6e94abfb53100042eb61c81d00e1f1ac790c73285b1fdf"
  },
  "kernelspec": {
   "display_name": "Python 3.10.4 64-bit",
   "language": "python",
   "name": "python3"
  },
  "language_info": {
   "codemirror_mode": {
    "name": "ipython",
    "version": 3
   },
   "file_extension": ".py",
   "mimetype": "text/x-python",
   "name": "python",
   "nbconvert_exporter": "python",
   "pygments_lexer": "ipython3",
   "version": "3.10.4"
  },
  "orig_nbformat": 4
 },
 "nbformat": 4,
 "nbformat_minor": 2
}
