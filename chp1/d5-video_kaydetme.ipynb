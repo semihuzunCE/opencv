{
 "cells": [
  {
   "cell_type": "code",
   "execution_count": 9,
   "metadata": {},
   "outputs": [],
   "source": [
    "import cv2"
   ]
  },
  {
   "cell_type": "code",
   "execution_count": 10,
   "metadata": {},
   "outputs": [],
   "source": [
    "cap=cv2.VideoCapture(0)\n",
    "\n",
    "fileName=\"C:\\\\Users\\semih\\Documents\\Calısmalarım\\Github\\opencv\\chp1\\webcam.avi\"\n",
    "codec=cv2.VideoWriter_fourcc('W','M','V','2') #video formatimiz .avi oldugundan ona uygun codec değerini fonksiyona girdik. diğer formatlar için forcc den girilmesi gereken değerler öğrenilebilir\n",
    "frameRate=30\n",
    "Resolution=(640,480)\n",
    "videoOutput= cv2.VideoWriter(fileName,codec,frameRate,Resolution) #outputumuzun parametreleri bunlardır while içinde ise framelerimizi vererek görüntümüzü video olarak kaydediyoruz.\n",
    "while True:\n",
    "    ret,frame=cap.read()\n",
    "    frame=cv2.flip(frame,1)\n",
    "    videoOutput.write(frame)\n",
    "\n",
    "    cv2.imshow(\"Webcam Live\", frame)\n",
    "    if cv2.waitKey(1) & 0xFF == ord(\"q\"):\n",
    "        break\n",
    "videoOutput.release()\n",
    "cap.release()\n",
    "cv2.destroyAllWindows()"
   ]
  }
 ],
 "metadata": {
  "interpreter": {
   "hash": "6890cd249af4e4ffbb6e94abfb53100042eb61c81d00e1f1ac790c73285b1fdf"
  },
  "kernelspec": {
   "display_name": "Python 3.10.4 64-bit",
   "language": "python",
   "name": "python3"
  },
  "language_info": {
   "codemirror_mode": {
    "name": "ipython",
    "version": 3
   },
   "file_extension": ".py",
   "mimetype": "text/x-python",
   "name": "python",
   "nbconvert_exporter": "python",
   "pygments_lexer": "ipython3",
   "version": "3.10.4"
  },
  "orig_nbformat": 4
 },
 "nbformat": 4,
 "nbformat_minor": 2
}
