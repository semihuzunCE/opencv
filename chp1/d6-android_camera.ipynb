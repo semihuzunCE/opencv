{
 "cells": [
  {
   "cell_type": "code",
   "execution_count": 2,
   "metadata": {},
   "outputs": [],
   "source": [
    "import cv2\n",
    "import numpy as np\n",
    "import requests"
   ]
  },
  {
   "cell_type": "code",
   "execution_count": 3,
   "metadata": {},
   "outputs": [],
   "source": [
    "url=\"http://192.168.0.171:8080//shot.jpg\" #uygulamanın oluşturdugu server adresinden anlık görüntüleri alıyoruz\n",
    "\n",
    "while True:\n",
    "    img_resp=requests.get(url)\n",
    "    img_arr=np.array(bytearray(img_resp.content),dtype=np.uint8) # urldeki resmi np arrayi olarak alıyoruz\n",
    "    img=cv2.imdecode(img_arr,cv2.IMREAD_COLOR) # aldıgımız np arrayini decode ederek resme dönüştürüyoruz\n",
    "    img = cv2.rotate(img, cv2.ROTATE_90_COUNTERCLOCKWISE)\n",
    "    img=cv2.flip(img,1)\n",
    "    img=cv2.resize(img,(90*4,160*4))\n",
    "\n",
    "    cv2.imshow(\"Android camera\",img)\n",
    "    if cv2.waitKey(1)==27: #esc durma komutu\n",
    "        break\n",
    "cv2.destroyAllWindows()"
   ]
  }
 ],
 "metadata": {
  "interpreter": {
   "hash": "6890cd249af4e4ffbb6e94abfb53100042eb61c81d00e1f1ac790c73285b1fdf"
  },
  "kernelspec": {
   "display_name": "Python 3.10.4 64-bit",
   "language": "python",
   "name": "python3"
  },
  "language_info": {
   "codemirror_mode": {
    "name": "ipython",
    "version": 3
   },
   "file_extension": ".py",
   "mimetype": "text/x-python",
   "name": "python",
   "nbconvert_exporter": "python",
   "pygments_lexer": "ipython3",
   "version": "3.10.4"
  },
  "orig_nbformat": 4
 },
 "nbformat": 4,
 "nbformat_minor": 2
}
