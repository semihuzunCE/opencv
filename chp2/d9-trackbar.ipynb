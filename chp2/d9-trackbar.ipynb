{
 "cells": [
  {
   "cell_type": "code",
   "execution_count": 11,
   "metadata": {},
   "outputs": [],
   "source": [
    "import cv2\n",
    "import numpy as np"
   ]
  },
  {
   "cell_type": "code",
   "execution_count": 12,
   "metadata": {},
   "outputs": [],
   "source": [
    "def nothing(x):\n",
    "    pass\n",
    "\n",
    "img=np.zeros((512,512,3),np.uint8)\n",
    "cv2.namedWindow(\"image\")\n",
    "\n",
    "\n",
    "cv2.createTrackbar(\"R\",\"image\",0, 255, nothing) # trackbarın başındaki isim, çercevenin ismi, alacağı değer başlangıcı, alacağı değer sonu, ve boş fonksiyon vermek gerekiyor hatasız çalışması için.\n",
    "cv2.createTrackbar(\"G\",\"image\",0, 255, nothing)\n",
    "cv2.createTrackbar(\"B\",\"image\",0, 255, nothing)\n",
    "switch=\"0: OFF, 1: ON\"\n",
    "cv2.createTrackbar(switch,\"image\",0, 1, nothing)"
   ]
  },
  {
   "cell_type": "code",
   "execution_count": 13,
   "metadata": {},
   "outputs": [],
   "source": [
    "while True:\n",
    "    cv2.imshow(\"image\",img)\n",
    "    if cv2.waitKey(1) & 0xFF==ord(\"q\"):\n",
    "        break\n",
    "\n",
    "    r=cv2.getTrackbarPos(\"R\",\"image\") #trackbarın o anki değerini döndürür.\n",
    "    g=cv2.getTrackbarPos(\"G\",\"image\")\n",
    "    b=cv2.getTrackbarPos(\"B\",\"image\")\n",
    "    s=cv2.getTrackbarPos(switch,\"image\")\n",
    "    img[:]=[b,g,r]\n",
    "    if s==0: #switch 0 ken çerceveyi siyah yapar switch 1 ken o anki trackbarların değerlerini rgb olarak img ye verir ve renk değişimini anlık görebiliriz.\n",
    "        img[:]=[0,0,0]\n",
    "    if s==1:\n",
    "        img[:]=[b,g,r]\n",
    "cv2.destroyAllWindows()"
   ]
  }
 ],
 "metadata": {
  "interpreter": {
   "hash": "6890cd249af4e4ffbb6e94abfb53100042eb61c81d00e1f1ac790c73285b1fdf"
  },
  "kernelspec": {
   "display_name": "Python 3.10.4 64-bit",
   "language": "python",
   "name": "python3"
  },
  "language_info": {
   "codemirror_mode": {
    "name": "ipython",
    "version": 3
   },
   "file_extension": ".py",
   "mimetype": "text/x-python",
   "name": "python",
   "nbconvert_exporter": "python",
   "pygments_lexer": "ipython3",
   "version": "3.10.4"
  },
  "orig_nbformat": 4
 },
 "nbformat": 4,
 "nbformat_minor": 2
}
